{
    "cells": [
        {
            "metadata": {},
            "cell_type": "markdown",
            "source": "<a href=\"http://cocl.us/pytorch_link_top?utm_medium=Exinfluencer&utm_source=Exinfluencer&utm_content=000026UJ&utm_term=10006555&utm_id=NA-SkillsNetwork-Channel-SkillsNetworkCoursesIBMDeveloperSkillsNetworkDL0321ENSkillsNetwork20647850-2021-01-01\">\n    <img src=\"https://s3-api.us-geo.objectstorage.softlayer.net/cf-courses-data/CognitiveClass/DL0110EN/notebook_images%20/Pytochtop.png\" width=\"750\" alt=\"IBM Product \" />\n</a> \n"
        },
        {
            "metadata": {},
            "cell_type": "markdown",
            "source": "<img src=\"https://s3-api.us-geo.objectstorage.softlayer.net/cf-courses-data/CognitiveClass/DL0110EN/notebook_images%20/cc-logo-square.png\" width=\"200\" alt=\"cognitiveclass.ai logo\" />\n"
        },
        {
            "metadata": {},
            "cell_type": "markdown",
            "source": "<h1>Objective</h1><ul><li> How to use linear classifier in pytorch.</li></ul> \n"
        },
        {
            "metadata": {},
            "cell_type": "markdown",
            "source": "<h1>Linear  Classifier with PyTorch </h1>\n"
        },
        {
            "metadata": {},
            "cell_type": "markdown",
            "source": "<p>Before you use a  Deep neural network to solve the classification problem,  it 's a good idea to try and solve the problem with the simplest method. You will need the dataset object from the previous section.\nIn this lab, we solve the problem with a linear classifier.\n You will be asked to determine the maximum accuracy your linear classifier can achieve on the validation data for 5 epochs. We will give some free parameter values if you follow the instructions you will be able to answer the quiz. Just like the other labs there are several steps, but in this lab you will only be quizzed on the final result. </p>\n"
        },
        {
            "metadata": {},
            "cell_type": "markdown",
            "source": "<h2>Table of Contents</h2>\n"
        },
        {
            "metadata": {},
            "cell_type": "markdown",
            "source": "<div class=\"alert alert-block alert-info\" style=\"margin-top: 20px\">\n\n<ul>\n    <li><a href=\"https://#download_data\"> Download data</a></li>\n    <li><a href=\"https://#auxiliary\"> Imports and Auxiliary Functions </a></li>\n    <li><a href=\"https://#data_class\"> Dataset Class</a></li>\n    <li><a href=\"https://#trasform_Data_object\">Transform Object and Dataset Object</a></li>\n    <li><a href=\"https://#Question\">Question</a></li>\n</ul>\n<p>Estimated Time Needed: <strong>25 min</strong></p>\n </div>\n<hr>\n"
        },
        {
            "metadata": {},
            "cell_type": "markdown",
            "source": "<h2 id=\"download_data\">Download Data</h2>\n"
        },
        {
            "metadata": {},
            "cell_type": "markdown",
            "source": "In this section, you are going to download the data from IBM object storage using <b>wget</b>, then unzip them.  <b>wget</b> is a command the retrieves content from web servers, in this case its a zip file. Locally we store the data in the directory  <b>/resources/data</b> . The <b>-p</b> creates the entire directory tree up to the given directory.\n"
        },
        {
            "metadata": {},
            "cell_type": "markdown",
            "source": "First, we download the file that contains the images, if you dint do this in your first lab uncomment:\n"
        },
        {
            "metadata": {},
            "cell_type": "code",
            "source": "#!wget https://s3-api.us-geo.objectstorage.softlayer.net/cf-courses-data/CognitiveClass/DL0321EN/data/images/concrete_crack_images_for_classification.zip -P resources/data",
            "execution_count": 1,
            "outputs": []
        },
        {
            "metadata": {},
            "cell_type": "markdown",
            "source": "We then unzip the file, this ma take a while:\n"
        },
        {
            "metadata": {},
            "cell_type": "code",
            "source": "#!unzip -q  resources/data/concrete_crack_images_for_classification.zip -d  resources/data",
            "execution_count": 2,
            "outputs": []
        },
        {
            "metadata": {},
            "cell_type": "markdown",
            "source": "We then download the files that contain the negative images:\n"
        },
        {
            "metadata": {},
            "cell_type": "markdown",
            "source": "<h2 id=\"auxiliary\">Imports and Auxiliary Functions</h2>\n"
        },
        {
            "metadata": {},
            "cell_type": "markdown",
            "source": "The following are the libraries we are going to use for this lab:\n"
        },
        {
            "metadata": {},
            "cell_type": "code",
            "source": "from PIL import Image\nimport matplotlib.pyplot as plt\nimport os\nimport glob\nimport torch\nfrom torch.utils.data import Dataset, DataLoader\nimport torchvision.transforms as transforms\nimport torch.nn as nn\nfrom torch import optim ",
            "execution_count": 3,
            "outputs": []
        },
        {
            "metadata": {},
            "cell_type": "markdown",
            "source": "<h2 id=\"data_class\">Dataset Class</h2>\n"
        },
        {
            "metadata": {},
            "cell_type": "markdown",
            "source": "In this section, we will use the previous code to build a dataset class. As before, make sure the even samples are positive, and the odd samples are negative.  If the parameter <code>train</code> is set to <code>True</code>, use the first 30 000  samples as training data; otherwise, the remaining samples will be used as validation data. Do not forget to sort your files so they are in the same order.\n"
        },
        {
            "metadata": {},
            "cell_type": "code",
            "source": "class Dataset(Dataset):\n\n    # Constructor\n    def __init__(self,transform=None,train=True):\n        directory=\"resources/data\"\n        positive=\"Positive\"\n        negative=\"Negative\"\n\n        positive_file_path=os.path.join(directory,positive)\n        negative_file_path=os.path.join(directory,negative)\n        positive_files=[os.path.join(positive_file_path,file) for file in  os.listdir(positive_file_path) if file.endswith(\".jpg\")]\n        positive_files.sort()\n        negative_files=[os.path.join(negative_file_path,file) for file in  os.listdir(negative_file_path) if file.endswith(\".jpg\")]\n        negative_files.sort()\n        number_of_samples=len(positive_files)+len(negative_files)\n        self.all_files=[None]*number_of_samples\n        self.all_files[::2]=positive_files\n        self.all_files[1::2]=negative_files \n        # The transform is goint to be used on image\n        self.transform = transform\n        #torch.LongTensor\n        self.Y=torch.zeros([number_of_samples]).type(torch.LongTensor)\n        self.Y[::2]=1\n        self.Y[1::2]=0\n        \n        if train:\n            self.all_files=self.all_files[0:30000]\n            self.Y=self.Y[0:30000]\n            self.len=len(self.all_files)\n        else:\n            self.all_files=self.all_files[30000:]\n            self.Y=self.Y[30000:]\n            self.len=len(self.all_files)    \n       \n    # Get the length\n    def __len__(self):\n        return self.len\n    \n    # Getter\n    def __getitem__(self, idx):\n        \n        \n        image=Image.open(self.all_files[idx])\n        y=self.Y[idx]\n          \n        \n        # If there is any transform method, apply it onto the image\n        if self.transform:\n            image = self.transform(image)\n\n        return image, y",
            "execution_count": 4,
            "outputs": []
        },
        {
            "metadata": {},
            "cell_type": "markdown",
            "source": "<h2 id=\"trasform_Data_object\">Transform Object and Dataset Object</h2>\n"
        },
        {
            "metadata": {},
            "cell_type": "markdown",
            "source": "Create a transform object, that uses the <code>Compose</code> function. First use the transform <code>ToTensor()</code> and followed by <code>Normalize(mean, std)</code>. The value for <code> mean</code> and <code>std</code> are provided for you.\n"
        },
        {
            "metadata": {},
            "cell_type": "code",
            "source": "mean = [0.485, 0.456, 0.406]\nstd = [0.229, 0.224, 0.225]\n# transforms.ToTensor()\n#transforms.Normalize(mean, std)\n#transforms.Compose([])\n\ntransform =transforms.Compose([ transforms.ToTensor(), transforms.Normalize(mean, std)])\n",
            "execution_count": 5,
            "outputs": []
        },
        {
            "metadata": {},
            "cell_type": "markdown",
            "source": "Create object for the training data  <code>dataset_train</code> and validation <code>dataset_val</code>. Use the transform object to convert the images to tensors using the transform object:\n"
        },
        {
            "metadata": {},
            "cell_type": "code",
            "source": "dataset_train=Dataset(transform=transform,train=True)\ndataset_val=Dataset(transform=transform,train=False)",
            "execution_count": 6,
            "outputs": []
        },
        {
            "metadata": {},
            "cell_type": "markdown",
            "source": "We  can find the shape of the image:\n"
        },
        {
            "metadata": {},
            "cell_type": "code",
            "source": "dataset_train[0][0].shape, dataset_train[0][1].item()",
            "execution_count": 7,
            "outputs": [
                {
                    "output_type": "execute_result",
                    "execution_count": 7,
                    "data": {
                        "text/plain": "(torch.Size([3, 227, 227]), 1)"
                    },
                    "metadata": {}
                }
            ]
        },
        {
            "metadata": {},
            "cell_type": "markdown",
            "source": "We see that it's a color image with three channels:\n"
        },
        {
            "metadata": {},
            "cell_type": "code",
            "source": "size_of_image=3*227*227\nsize_of_image",
            "execution_count": 8,
            "outputs": [
                {
                    "output_type": "execute_result",
                    "execution_count": 8,
                    "data": {
                        "text/plain": "154587"
                    },
                    "metadata": {}
                }
            ]
        },
        {
            "metadata": {},
            "cell_type": "markdown",
            "source": "<h2 id=\"Question\"> Question <h2>\n"
        },
        {
            "metadata": {},
            "cell_type": "markdown",
            "source": "<b> Create a custom module for Softmax for two classes,called model. The input size should be the <code>size_of_image</code>, you should record the maximum accuracy achieved on the validation data for the different epochs. For example if the 5 epochs the accuracy was 0.5, 0.2, 0.64,0.77, 0.66 you would select 0.77.</b>\n"
        },
        {
            "metadata": {},
            "cell_type": "markdown",
            "source": "Train the model with the following free parameter values:\n"
        },
        {
            "metadata": {},
            "cell_type": "markdown",
            "source": "<b>Parameter Values</b>\n\n   <li>learning rate:0.1 </li>\n   <li>momentum term:0.1 </li>\n   <li>batch size training:1000</li>\n   <li>Loss function:Cross Entropy Loss </li>\n   <li>epochs:5</li>\n   <li>set: torch.manual_seed(0)</li>\n"
        },
        {
            "metadata": {},
            "cell_type": "code",
            "source": "torch.manual_seed(0)",
            "execution_count": 9,
            "outputs": [
                {
                    "output_type": "execute_result",
                    "execution_count": 9,
                    "data": {
                        "text/plain": "<torch._C.Generator at 0x7fa02cc62890>"
                    },
                    "metadata": {}
                }
            ]
        },
        {
            "metadata": {},
            "cell_type": "code",
            "source": "learning_rate=0.1\nmomentum_term=0.1\nbatch_size_training=1000\nepochs=5\ninput_dim = size_of_image",
            "execution_count": 10,
            "outputs": []
        },
        {
            "metadata": {},
            "cell_type": "markdown",
            "source": "<b>Custom Module:</b>\n"
        },
        {
            "metadata": {},
            "cell_type": "code",
            "source": "class SoftMax(nn.Module):\n    def __init__(self, in_size, out_size):\n        super(SoftMax, self).__init__()\n        self.linear = nn.Linear(in_size, out_size)\n    \n    def forward(self, x):\n        return self.linear(x)",
            "execution_count": 11,
            "outputs": []
        },
        {
            "metadata": {},
            "cell_type": "markdown",
            "source": "<b>Model Object:</b>\n"
        },
        {
            "metadata": {},
            "cell_type": "code",
            "source": "model = SoftMax (size_of_image, 2)",
            "execution_count": 12,
            "outputs": []
        },
        {
            "metadata": {},
            "cell_type": "markdown",
            "source": "<b>Optimizer:</b>\n"
        },
        {
            "metadata": {},
            "cell_type": "code",
            "source": "optimizer = optim.SGD(params=model.parameters(), lr=learning_rate, momentum=momentum_term)",
            "execution_count": 13,
            "outputs": []
        },
        {
            "metadata": {},
            "cell_type": "markdown",
            "source": "<b>Criterion:</b>\n"
        },
        {
            "metadata": {},
            "cell_type": "code",
            "source": "criterion = nn.CrossEntropyLoss()",
            "execution_count": 14,
            "outputs": []
        },
        {
            "metadata": {},
            "cell_type": "markdown",
            "source": "<b>Data Loader Training and Validation:</b>\n"
        },
        {
            "metadata": {},
            "cell_type": "code",
            "source": "dataloader_train = DataLoader(dataset_train, batch_size=batch_size_training)\ndataloader_valid = DataLoader(dataset_val, batch_size=batch_size_training)\nlen(dataloader_train), len(dataloader_valid)\nlen(dataloader_train.dataset)",
            "execution_count": 15,
            "outputs": [
                {
                    "output_type": "execute_result",
                    "execution_count": 15,
                    "data": {
                        "text/plain": "30000"
                    },
                    "metadata": {}
                }
            ]
        },
        {
            "metadata": {},
            "cell_type": "markdown",
            "source": "<b>Train Model with 5 epochs, should take 35 minutes: </b>\n"
        },
        {
            "metadata": {},
            "cell_type": "code",
            "source": "trloss=[]\naccuracy=[]\nfor epoch in range(epochs):\n    print(\"Starting epoch: {}\".format(epoch))\n    total_loss = 0.0\n    model.train()\n    for x, y in dataloader_train:\n        optimizer.zero_grad()\n        yhat = model.forward(x.view(-1, input_dim))\n        loss = criterion(yhat, y)\n        loss.backward()\n        total_loss += loss.item()\n        optimizer.step()\n        \n    trloss.append(total_loss / len(dataset_train)) \n    print(\"Done training epoch: {} training loss: {} \".format(epoch, total_loss/ len(dataset_train)))\n    \n    acc = 0.0\n    model.eval()\n    for x, y in dataloader_valid:\n        with torch.no_grad():\n            yhat = model.forward(x.view(-1, input_dim))\n        pred = yhat.argmax(dim=1, keepdim=True).squeeze()\n        #print(\"pred.shape:{} yhat.shape: {} y.shape:{}\".format(pred.shape, yhat.shape, y.shape))\n        acc += pred.eq(y).sum().item()\n    \n    accuracy.append(acc / len(dataset_val))\n    \n    print(\"epoch: {}  validation accuracy: {}\".format(epoch, acc / len(dataset_val)))\n\n",
            "execution_count": null,
            "outputs": [
                {
                    "output_type": "stream",
                    "text": "Starting epoch: 0\nDone training epoch: 0 training loss: 2.4494414673606553 \nepoch: 0  validation accuracy: 0.6195\nStarting epoch: 1\nDone training epoch: 1 training loss: 1.9395137926737467 \nepoch: 1  validation accuracy: 0.5541\nStarting epoch: 2\nDone training epoch: 2 training loss: 1.483632470703125 \nepoch: 2  validation accuracy: 0.5698\nStarting epoch: 3\nDone training epoch: 3 training loss: 0.922066463470459 \nepoch: 3  validation accuracy: 0.5702\nStarting epoch: 4\n",
                    "name": "stdout"
                }
            ]
        },
        {
            "metadata": {},
            "cell_type": "code",
            "source": "trloss, accuracy",
            "execution_count": null,
            "outputs": []
        },
        {
            "metadata": {},
            "cell_type": "markdown",
            "source": "<h2>About the Authors:</h2>\n <a href=https://\"https//www.linkedin.com/in/joseph-s-50398b136//%22?utm_medium=Exinfluencer&utm_source=Exinfluencer&utm_content=000026UJ&utm_term=10006555&utm_id=NA-SkillsNetwork-Channel-SkillsNetworkCoursesIBMDeveloperSkillsNetworkDL0321ENSkillsNetwork20647850-2021-01-01>Joseph Santarcangelo</a> has a PhD in Electrical Engineering, his research focused on using machine learning, signal processing, and computer vision to determine how videos impact human cognition. Joseph has been working for IBM since he completed his PhD.\n"
        },
        {
            "metadata": {},
            "cell_type": "markdown",
            "source": "## Change Log\n\n| Date (YYYY-MM-DD) | Version | Changed By | Change Description                                          |\n| ----------------- | ------- | ---------- | ----------------------------------------------------------- |\n| 2020-09-18        | 2.0     | Shubham    | Migrated Lab to Markdown and added to course repo in GitLab |\n"
        },
        {
            "metadata": {},
            "cell_type": "markdown",
            "source": "Copyright \u00a9 2019 <a href=\"https://cognitiveclass.ai/?utm_medium=Exinfluencer&utm_source=Exinfluencer&utm_content=000026UJ&utm_term=10006555&utm_id=NA-SkillsNetwork-Channel-SkillsNetworkCoursesIBMDeveloperSkillsNetworkDL0321ENSkillsNetwork20647850-2021-01-01\"> cognitiveclass.ai</a>. This notebook and its source code are released under the terms of the <a href=\"https://bigdatauniversity.com/mit-license/?utm_medium=Exinfluencer&utm_source=Exinfluencer&utm_content=000026UJ&utm_term=10006555&utm_id=NA-SkillsNetwork-Channel-SkillsNetworkCoursesIBMDeveloperSkillsNetworkDL0321ENSkillsNetwork20647850-2021-01-01\">MIT License</a>\n"
        },
        {
            "metadata": {},
            "cell_type": "code",
            "source": "",
            "execution_count": null,
            "outputs": []
        }
    ],
    "metadata": {
        "kernelspec": {
            "name": "python3",
            "display_name": "Python 3.8",
            "language": "python"
        },
        "language_info": {
            "name": "python",
            "version": "3.8.12",
            "mimetype": "text/x-python",
            "codemirror_mode": {
                "name": "ipython",
                "version": 3
            },
            "pygments_lexer": "ipython3",
            "nbconvert_exporter": "python",
            "file_extension": ".py"
        }
    },
    "nbformat": 4,
    "nbformat_minor": 4
}