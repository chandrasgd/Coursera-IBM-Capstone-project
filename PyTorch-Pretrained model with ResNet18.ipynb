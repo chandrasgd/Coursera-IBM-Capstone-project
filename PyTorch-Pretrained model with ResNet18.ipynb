{
    "cells": [
        {
            "metadata": {},
            "cell_type": "markdown",
            "source": "<a href=\"http://cocl.us/pytorch_link_top?utm_medium=Exinfluencer&utm_source=Exinfluencer&utm_content=000026UJ&utm_term=10006555&utm_id=NA-SkillsNetwork-Channel-SkillsNetworkCoursesIBMDeveloperSkillsNetworkDL0321ENSkillsNetwork20647850-2021-01-01\">\n    <img src=\"https://s3-api.us-geo.objectstorage.softlayer.net/cf-courses-data/CognitiveClass/DL0110EN/notebook_images%20/Pytochtop.png\" width=\"750\" alt=\"IBM Product \" />\n</a> \n"
        },
        {
            "metadata": {},
            "cell_type": "markdown",
            "source": "<img src=\"https://s3-api.us-geo.objectstorage.softlayer.net/cf-courses-data/CognitiveClass/DL0110EN/notebook_images%20/cc-logo-square.png\" width=\"200\" alt=\"cognitiveclass.ai logo\" />\n"
        },
        {
            "metadata": {},
            "cell_type": "markdown",
            "source": "<h1><h1>Pre-trained-Models with PyTorch </h1>\n"
        },
        {
            "metadata": {},
            "cell_type": "markdown",
            "source": "In this lab, you will use pre-trained models to classify between the negative and positive samples; you will be provided with the dataset object. The particular pre-trained model will be resnet18; you will have three questions:\n\n<ul>\n<li>change the output layer</li>\n<li> train the model</li> \n<li>  identify  several  misclassified samples</li> \n </ul>\nYou will take several screenshots of your work and share your notebook. \n"
        },
        {
            "metadata": {},
            "cell_type": "markdown",
            "source": "<h2>Table of Contents</h2>\n"
        },
        {
            "metadata": {},
            "cell_type": "markdown",
            "source": "<div class=\"alert alert-block alert-info\" style=\"margin-top: 20px\">\n\n<ul>\n    <li><a href=\"https://#download_data\"> Download Data</a></li>\n    <li><a href=\"https://#auxiliary\"> Imports and Auxiliary Functions </a></li>\n    <li><a href=\"https://#data_class\"> Dataset Class</a></li>\n    <li><a href=\"https://#Question_1\">Question 1</a></li>\n    <li><a href=\"https://#Question_2\">Question 2</a></li>\n    <li><a href=\"https://#Question_3\">Question 3</a></li>\n</ul>\n<p>Estimated Time Needed: <strong>120 min</strong></p>\n </div>\n<hr>\n"
        },
        {
            "metadata": {},
            "cell_type": "markdown",
            "source": "<h2 id=\"download_data\">Download Data</h2>\n"
        },
        {
            "metadata": {},
            "cell_type": "markdown",
            "source": "Download the dataset and unzip the files in your data directory, unlike the other labs, all the data will be deleted after you close  the lab, this may take some time:\n"
        },
        {
            "metadata": {},
            "cell_type": "code",
            "source": "!wget https://s3-api.us-geo.objectstorage.softlayer.net/cf-courses-data/CognitiveClass/DL0321EN/data/images/Positive_tensors.zip -P https://s3.private.au-syd.cloud-object-storage.appdomain.cloud/ibm-ai-capstone-bucket/Resources",
            "execution_count": 10,
            "outputs": [
                {
                    "output_type": "stream",
                    "text": "--2022-02-23 13:46:35--  https://s3-api.us-geo.objectstorage.softlayer.net/cf-courses-data/CognitiveClass/DL0321EN/data/images/Positive_tensors.zip\nResolving s3-api.us-geo.objectstorage.softlayer.net (s3-api.us-geo.objectstorage.softlayer.net)... 67.228.254.196\nConnecting to s3-api.us-geo.objectstorage.softlayer.net (s3-api.us-geo.objectstorage.softlayer.net)|67.228.254.196|:443... connected.\nHTTP request sent, awaiting response... 200 OK\nLength: 2598656062 (2.4G) [application/zip]\nSaving to: \u2018https://s3.private.au-syd.cloud-object-storage.appdomain.cloud/ibm-ai-capstone-bucket/Resources/Positive_tensors.zip\u2019\n\nPositive_tensors.zi 100%[===================>]   2.42G  38.0MB/s    in 66s     \n\n2022-02-23 13:47:42 (37.3 MB/s) - \u2018https://s3.private.au-syd.cloud-object-storage.appdomain.cloud/ibm-ai-capstone-bucket/Resources/Positive_tensors.zip\u2019 saved [2598656062/2598656062]\n\n",
                    "name": "stdout"
                }
            ]
        },
        {
            "metadata": {},
            "cell_type": "code",
            "source": "!unzip -q https://s3.private.au-syd.cloud-object-storage.appdomain.cloud/ibm-ai-capstone-bucket/Resources/Positive_tensors.zip -d https://s3.private.au-syd.cloud-object-storage.appdomain.cloud/ibm-ai-capstone-bucket/Resources",
            "execution_count": 14,
            "outputs": []
        },
        {
            "metadata": {},
            "cell_type": "code",
            "source": "!wget https://s3-api.us-geo.objectstorage.softlayer.net/cf-courses-data/CognitiveClass/DL0321EN/data/images/Negative_tensors.zip -P https://s3.private.au-syd.cloud-object-storage.appdomain.cloud/ibm-ai-capstone-bucket/Resources",
            "execution_count": 15,
            "outputs": [
                {
                    "output_type": "stream",
                    "text": "--2022-02-23 13:56:54--  https://s3-api.us-geo.objectstorage.softlayer.net/cf-courses-data/CognitiveClass/DL0321EN/data/images/Negative_tensors.zip\nResolving s3-api.us-geo.objectstorage.softlayer.net (s3-api.us-geo.objectstorage.softlayer.net)... 67.228.254.196\nConnecting to s3-api.us-geo.objectstorage.softlayer.net (s3-api.us-geo.objectstorage.softlayer.net)|67.228.254.196|:443... connected.\nHTTP request sent, awaiting response... 200 OK\nLength: 2111408108 (2.0G) [application/zip]\nSaving to: \u2018https://s3.private.au-syd.cloud-object-storage.appdomain.cloud/ibm-ai-capstone-bucket/Resources/Negative_tensors.zip\u2019\n\nNegative_tensors.zi 100%[===================>]   1.97G  36.8MB/s    in 59s     \n\n2022-02-23 13:57:54 (33.9 MB/s) - \u2018https://s3.private.au-syd.cloud-object-storage.appdomain.cloud/ibm-ai-capstone-bucket/Resources/Negative_tensors.zip\u2019 saved [2111408108/2111408108]\n\n",
                    "name": "stdout"
                }
            ]
        },
        {
            "metadata": {},
            "cell_type": "code",
            "source": "!unzip -q https://s3.private.au-syd.cloud-object-storage.appdomain.cloud/ibm-ai-capstone-bucket/Resources/Negative_tensors.zip -d https://s3.private.au-syd.cloud-object-storage.appdomain.cloud/ibm-ai-capstone-bucket/Resources",
            "execution_count": 16,
            "outputs": []
        },
        {
            "metadata": {},
            "cell_type": "markdown",
            "source": "We will install torchvision:\n"
        },
        {
            "metadata": {},
            "cell_type": "code",
            "source": "!pip install torchvision",
            "execution_count": 17,
            "outputs": [
                {
                    "output_type": "stream",
                    "text": "Requirement already satisfied: torchvision in /opt/conda/envs/Python-3.8-main/lib/python3.8/site-packages (0.8.2)\r\nRequirement already satisfied: numpy in /opt/conda/envs/Python-3.8-main/lib/python3.8/site-packages (from torchvision) (1.19.2)\r\nRequirement already satisfied: torch in /opt/conda/envs/Python-3.8-main/lib/python3.8/site-packages (from torchvision) (1.7.1)\r\nRequirement already satisfied: pillow>=4.1.1 in /opt/conda/envs/Python-3.8-main/lib/python3.8/site-packages (from torchvision) (8.4.0)\r\nRequirement already satisfied: typing_extensions in /opt/conda/envs/Python-3.8-main/lib/python3.8/site-packages (from torch->torchvision) (3.7.4.3)\r\n",
                    "name": "stdout"
                }
            ]
        },
        {
            "metadata": {},
            "cell_type": "markdown",
            "source": "<h2 id=\"auxiliary\">Imports and Auxiliary Functions</h2>\n"
        },
        {
            "metadata": {},
            "cell_type": "markdown",
            "source": "The following are the libraries we are going to use for this lab. The <code>torch.manual_seed()</code> is for forcing the random function to give the same number every time we try to recompile it.\n"
        },
        {
            "metadata": {},
            "cell_type": "code",
            "source": "# These are the libraries will be used for this lab.\nimport torchvision.models as models\nfrom PIL import Image\nimport pandas\nfrom torchvision import transforms\nimport torch.nn as nn\nimport time\nimport torch \nimport matplotlib.pylab as plt\nimport numpy as np\nfrom torch.utils.data import Dataset, DataLoader\nimport h5py\nimport os\nimport glob\n",
            "execution_count": 18,
            "outputs": []
        },
        {
            "metadata": {},
            "cell_type": "code",
            "source": "from matplotlib.pyplot import imshow\nimport matplotlib.pylab as plt\nfrom PIL import Image\nimport pandas as pd\nimport os",
            "execution_count": 19,
            "outputs": []
        },
        {
            "metadata": {},
            "cell_type": "markdown",
            "source": "<!--Empty Space for separating topics-->\n"
        },
        {
            "metadata": {},
            "cell_type": "markdown",
            "source": "<h2 id=\"data_class\">Dataset Class</h2>\n"
        },
        {
            "metadata": {},
            "cell_type": "markdown",
            "source": "This dataset class is essentially the same dataset you build in the previous section, but to speed things up, we are going to use tensors instead of jpeg images. Therefor for each iteration, you will skip the reshape step, conversion step to tensors and normalization step.\n"
        },
        {
            "metadata": {},
            "cell_type": "code",
            "source": "# Create your own dataset object\n\nclass Dataset(Dataset):\n\n    # Constructor\n    def __init__(self,transform=None,train=True):\n        directory=\"https://s3.private.au-syd.cloud-object-storage.appdomain.cloud/ibm-ai-capstone-bucket/Resources/\"\n        #directory=\"\"\n        positive=\"Positive_tensors\"\n        negative='Negative_tensors'\n\n        positive_file_path=os.path.join(directory,positive)\n        negative_file_path=os.path.join(directory,negative)\n        positive_files=[os.path.join(positive_file_path,file) for file in os.listdir(positive_file_path) if file.endswith(\".pt\")]\n        negative_files=[os.path.join(negative_file_path,file) for file in os.listdir(negative_file_path) if file.endswith(\".pt\")]\n        number_of_samples=len(positive_files)+len(negative_files)\n        self.all_files=[None]*number_of_samples\n        self.all_files[::2]=positive_files\n        self.all_files[1::2]=negative_files \n        # The transform is goint to be used on image\n        self.transform = transform\n        #torch.LongTensor\n        self.Y=torch.zeros([number_of_samples]).type(torch.LongTensor)\n        self.Y[::2]=1\n        self.Y[1::2]=0\n        \n        if train:\n            self.all_files=self.all_files[0:30000]\n            self.Y=self.Y[0:30000]\n            self.len=len(self.all_files)\n        else:\n            self.all_files=self.all_files[30000:]\n            self.Y=self.Y[30000:]\n            self.len=len(self.all_files)     \n       \n    # Get the length\n    def __len__(self):\n        return self.len\n    \n    # Getter\n    def __getitem__(self, idx):\n               \n        image=torch.load(self.all_files[idx])\n        y=self.Y[idx]\n                  \n        # If there is any transform method, apply it onto the image\n        if self.transform:\n            image = self.transform(image)\n\n        return image, y\n    \nprint(\"done\")",
            "execution_count": 23,
            "outputs": [
                {
                    "output_type": "stream",
                    "text": "done\n",
                    "name": "stdout"
                }
            ]
        },
        {
            "metadata": {},
            "cell_type": "markdown",
            "source": "We create two dataset objects, one for the training data and one for the validation data.\n"
        },
        {
            "metadata": {},
            "cell_type": "code",
            "source": "# set the seed\ntorch.manual_seed(0)\n\n# create transforms using mean and std for the resnet18 model\nmean = [0.485, 0.456, 0.4086]\nstd = [0.229, 0.224, 0.225]\n        \ntransform = transforms.Compose([\n#    transforms.ToTensor(),\n    transforms.Resize(224),\n#    transforms.ToPILImage(),\n    transforms.Normalize(mean, std)\n]\n)",
            "execution_count": 24,
            "outputs": []
        },
        {
            "metadata": {},
            "cell_type": "code",
            "source": "train_dataset = Dataset(transform=transform, train=True)\nvalidation_dataset = Dataset(transform=transform, train=False)\nlen(train_dataset)",
            "execution_count": 25,
            "outputs": [
                {
                    "output_type": "execute_result",
                    "execution_count": 25,
                    "data": {
                        "text/plain": "30000"
                    },
                    "metadata": {}
                }
            ]
        },
        {
            "metadata": {},
            "cell_type": "code",
            "source": "sample=train_dataset[0][0]\nsample.shape",
            "execution_count": 26,
            "outputs": [
                {
                    "output_type": "execute_result",
                    "execution_count": 26,
                    "data": {
                        "text/plain": "torch.Size([3, 224, 224])"
                    },
                    "metadata": {}
                }
            ]
        },
        {
            "metadata": {},
            "cell_type": "code",
            "source": "input_dim = train_dataset[0][0].shape[0] * train_dataset[0][0].shape[1] * train_dataset[0][0].shape[2]\ninput_dim",
            "execution_count": 27,
            "outputs": [
                {
                    "output_type": "execute_result",
                    "execution_count": 27,
                    "data": {
                        "text/plain": "150528"
                    },
                    "metadata": {}
                }
            ]
        },
        {
            "metadata": {},
            "cell_type": "markdown",
            "source": "<h2 id=\"Question_1\">Question 1</h2>\n"
        },
        {
            "metadata": {},
            "cell_type": "markdown",
            "source": "<b>Prepare a pre-trained resnet18 model :</b>\n"
        },
        {
            "metadata": {},
            "cell_type": "markdown",
            "source": "<b>Step 1</b>: Load the pre-trained model <code>resnet18</code> Set the parameter <code>pretrained</code> to true:\n"
        },
        {
            "metadata": {},
            "cell_type": "code",
            "source": "# Step 1: Load the pre-trained model resnet18\n\n# Type your code here\nmodel = models.resnet18(pretrained=True)",
            "execution_count": 28,
            "outputs": [
                {
                    "output_type": "stream",
                    "text": "Downloading: \"https://download.pytorch.org/models/resnet18-5c106cde.pth\" to /home/wsuser/.cache/torch/hub/checkpoints/resnet18-5c106cde.pth\n",
                    "name": "stderr"
                },
                {
                    "output_type": "display_data",
                    "data": {
                        "text/plain": "  0%|          | 0.00/44.7M [00:00<?, ?B/s]",
                        "application/vnd.jupyter.widget-view+json": {
                            "version_major": 2,
                            "version_minor": 0,
                            "model_id": "287b302f05e347399a2a7a8ae5c6788b"
                        }
                    },
                    "metadata": {}
                }
            ]
        },
        {
            "metadata": {},
            "cell_type": "markdown",
            "source": "<b>Step 2</b>: Set the attribute <code>requires_grad</code> to <code>False</code>. As a result, the parameters will not be affected by training.\n"
        },
        {
            "metadata": {},
            "cell_type": "code",
            "source": "# Step 2: Set the parameter cannot be trained for the pre-trained model\n\n\n# Type your code here\nfor param in model.parameters():\n    param.requires_grad=False ",
            "execution_count": 29,
            "outputs": []
        },
        {
            "metadata": {},
            "cell_type": "markdown",
            "source": "<code>resnet18</code> is used to classify 1000 different objects; as a result, the last layer has 1000 outputs.  The 512 inputs come from the fact that the previously hidden layer has 512 outputs.\n"
        },
        {
            "metadata": {},
            "cell_type": "markdown",
            "source": "<b>Step 3</b>: Replace the output layer <code>model.fc</code> of the neural network with a <code>nn.Linear</code> object, to classify 2 different classes. For the parameters <code>in_features </code> remember the last hidden layer has 512 neurons.\n"
        },
        {
            "metadata": {},
            "cell_type": "code",
            "source": "model.fc = nn.Linear(in_features=512, out_features=7)",
            "execution_count": 30,
            "outputs": []
        },
        {
            "metadata": {},
            "cell_type": "markdown",
            "source": "Print out the model in order to show whether you get the correct answer.<br> <b>(Your peer reviewer is going to mark based on what you print here.)</b>\n"
        },
        {
            "metadata": {},
            "cell_type": "code",
            "source": "",
            "execution_count": null,
            "outputs": []
        },
        {
            "metadata": {},
            "cell_type": "code",
            "source": "print(model)",
            "execution_count": 31,
            "outputs": [
                {
                    "output_type": "stream",
                    "text": "ResNet(\n  (conv1): Conv2d(3, 64, kernel_size=(7, 7), stride=(2, 2), padding=(3, 3), bias=False)\n  (bn1): BatchNorm2d(64, eps=1e-05, momentum=0.1, affine=True, track_running_stats=True)\n  (relu): ReLU(inplace=True)\n  (maxpool): MaxPool2d(kernel_size=3, stride=2, padding=1, dilation=1, ceil_mode=False)\n  (layer1): Sequential(\n    (0): BasicBlock(\n      (conv1): Conv2d(64, 64, kernel_size=(3, 3), stride=(1, 1), padding=(1, 1), bias=False)\n      (bn1): BatchNorm2d(64, eps=1e-05, momentum=0.1, affine=True, track_running_stats=True)\n      (relu): ReLU(inplace=True)\n      (conv2): Conv2d(64, 64, kernel_size=(3, 3), stride=(1, 1), padding=(1, 1), bias=False)\n      (bn2): BatchNorm2d(64, eps=1e-05, momentum=0.1, affine=True, track_running_stats=True)\n    )\n    (1): BasicBlock(\n      (conv1): Conv2d(64, 64, kernel_size=(3, 3), stride=(1, 1), padding=(1, 1), bias=False)\n      (bn1): BatchNorm2d(64, eps=1e-05, momentum=0.1, affine=True, track_running_stats=True)\n      (relu): ReLU(inplace=True)\n      (conv2): Conv2d(64, 64, kernel_size=(3, 3), stride=(1, 1), padding=(1, 1), bias=False)\n      (bn2): BatchNorm2d(64, eps=1e-05, momentum=0.1, affine=True, track_running_stats=True)\n    )\n  )\n  (layer2): Sequential(\n    (0): BasicBlock(\n      (conv1): Conv2d(64, 128, kernel_size=(3, 3), stride=(2, 2), padding=(1, 1), bias=False)\n      (bn1): BatchNorm2d(128, eps=1e-05, momentum=0.1, affine=True, track_running_stats=True)\n      (relu): ReLU(inplace=True)\n      (conv2): Conv2d(128, 128, kernel_size=(3, 3), stride=(1, 1), padding=(1, 1), bias=False)\n      (bn2): BatchNorm2d(128, eps=1e-05, momentum=0.1, affine=True, track_running_stats=True)\n      (downsample): Sequential(\n        (0): Conv2d(64, 128, kernel_size=(1, 1), stride=(2, 2), bias=False)\n        (1): BatchNorm2d(128, eps=1e-05, momentum=0.1, affine=True, track_running_stats=True)\n      )\n    )\n    (1): BasicBlock(\n      (conv1): Conv2d(128, 128, kernel_size=(3, 3), stride=(1, 1), padding=(1, 1), bias=False)\n      (bn1): BatchNorm2d(128, eps=1e-05, momentum=0.1, affine=True, track_running_stats=True)\n      (relu): ReLU(inplace=True)\n      (conv2): Conv2d(128, 128, kernel_size=(3, 3), stride=(1, 1), padding=(1, 1), bias=False)\n      (bn2): BatchNorm2d(128, eps=1e-05, momentum=0.1, affine=True, track_running_stats=True)\n    )\n  )\n  (layer3): Sequential(\n    (0): BasicBlock(\n      (conv1): Conv2d(128, 256, kernel_size=(3, 3), stride=(2, 2), padding=(1, 1), bias=False)\n      (bn1): BatchNorm2d(256, eps=1e-05, momentum=0.1, affine=True, track_running_stats=True)\n      (relu): ReLU(inplace=True)\n      (conv2): Conv2d(256, 256, kernel_size=(3, 3), stride=(1, 1), padding=(1, 1), bias=False)\n      (bn2): BatchNorm2d(256, eps=1e-05, momentum=0.1, affine=True, track_running_stats=True)\n      (downsample): Sequential(\n        (0): Conv2d(128, 256, kernel_size=(1, 1), stride=(2, 2), bias=False)\n        (1): BatchNorm2d(256, eps=1e-05, momentum=0.1, affine=True, track_running_stats=True)\n      )\n    )\n    (1): BasicBlock(\n      (conv1): Conv2d(256, 256, kernel_size=(3, 3), stride=(1, 1), padding=(1, 1), bias=False)\n      (bn1): BatchNorm2d(256, eps=1e-05, momentum=0.1, affine=True, track_running_stats=True)\n      (relu): ReLU(inplace=True)\n      (conv2): Conv2d(256, 256, kernel_size=(3, 3), stride=(1, 1), padding=(1, 1), bias=False)\n      (bn2): BatchNorm2d(256, eps=1e-05, momentum=0.1, affine=True, track_running_stats=True)\n    )\n  )\n  (layer4): Sequential(\n    (0): BasicBlock(\n      (conv1): Conv2d(256, 512, kernel_size=(3, 3), stride=(2, 2), padding=(1, 1), bias=False)\n      (bn1): BatchNorm2d(512, eps=1e-05, momentum=0.1, affine=True, track_running_stats=True)\n      (relu): ReLU(inplace=True)\n      (conv2): Conv2d(512, 512, kernel_size=(3, 3), stride=(1, 1), padding=(1, 1), bias=False)\n      (bn2): BatchNorm2d(512, eps=1e-05, momentum=0.1, affine=True, track_running_stats=True)\n      (downsample): Sequential(\n        (0): Conv2d(256, 512, kernel_size=(1, 1), stride=(2, 2), bias=False)\n        (1): BatchNorm2d(512, eps=1e-05, momentum=0.1, affine=True, track_running_stats=True)\n      )\n    )\n    (1): BasicBlock(\n      (conv1): Conv2d(512, 512, kernel_size=(3, 3), stride=(1, 1), padding=(1, 1), bias=False)\n      (bn1): BatchNorm2d(512, eps=1e-05, momentum=0.1, affine=True, track_running_stats=True)\n      (relu): ReLU(inplace=True)\n      (conv2): Conv2d(512, 512, kernel_size=(3, 3), stride=(1, 1), padding=(1, 1), bias=False)\n      (bn2): BatchNorm2d(512, eps=1e-05, momentum=0.1, affine=True, track_running_stats=True)\n    )\n  )\n  (avgpool): AdaptiveAvgPool2d(output_size=(1, 1))\n  (fc): Linear(in_features=512, out_features=7, bias=True)\n)\n",
                    "name": "stdout"
                }
            ]
        },
        {
            "metadata": {},
            "cell_type": "markdown",
            "source": "<h2 id=\"Question_2\">Question 2: Train the Model</h2>\n"
        },
        {
            "metadata": {},
            "cell_type": "markdown",
            "source": "In this question you will train your, model:\n"
        },
        {
            "metadata": {},
            "cell_type": "markdown",
            "source": "<b>Step 1</b>: Create a cross entropy criterion function\n"
        },
        {
            "metadata": {},
            "cell_type": "code",
            "source": "# Step 1: Create the loss function\n\n# Type your code here\ncriterion=nn.CrossEntropyLoss()",
            "execution_count": 34,
            "outputs": []
        },
        {
            "metadata": {},
            "cell_type": "markdown",
            "source": "<b>Step 2</b>: Create a training loader and validation loader object, the batch size should have 100 samples each.\n"
        },
        {
            "metadata": {},
            "cell_type": "code",
            "source": "train_batch = 100\nvalidation_batch = 100\ntrain_loader = DataLoader(dataset=train_dataset, batch_size=train_batch)\nvalidation_loader = DataLoader(dataset=validation_dataset, batch_size=validation_batch)",
            "execution_count": 35,
            "outputs": []
        },
        {
            "metadata": {},
            "cell_type": "markdown",
            "source": "<b>Step 3</b>: Use the following optimizer to minimize the loss\n"
        },
        {
            "metadata": {},
            "cell_type": "code",
            "source": "optimizer = torch.optim.Adam([parameters  for parameters in model.parameters() if parameters.requires_grad], lr=0.003)",
            "execution_count": 36,
            "outputs": []
        },
        {
            "metadata": {},
            "cell_type": "markdown",
            "source": "<!--Empty Space for separating topics-->\n"
        },
        {
            "metadata": {},
            "cell_type": "markdown",
            "source": "**Complete the following code to calculate  the accuracy on the validation data for one epoch; this should take about 45 minutes. Make sure you calculate the accuracy on the validation data.**\n"
        },
        {
            "metadata": {},
            "cell_type": "code",
            "source": "n_epochs=1\nloss_list=[]\naccuracy_list=[]\nloss_epoch = []\naccuracy_epoch = []\nmissed_list = []\nN_test=len(validation_dataset)\nN_train=len(train_dataset)\nstart_time = time.time()\n\ntrain=False\n\nstart_time = time.time()\nfor epoch in range(n_epochs):\n    print(\"epoch: {} started...\".format(epoch))\n    \n    if train:\n        Loss=0.0\n        #set the model to train\n        model.train() \n        for x, y in train_loader:\n            #clear gradient \n            optimizer.zero_grad()\n            #make a prediction \n            yhat = model.forward(x)\n            # calculate loss \n            loss = criterion(yhat, y)\n            # calculate gradients of parameters \n            loss.backward()\n            # update parameters \n            optimizer.step()\n            Loss += loss.item()\n            loss_list.append(loss.item())\n\n        loss_epoch.append(Loss / N_train)\n        print(\"training done...\")\n    \n    print(\"starting validation...\")\n    correct=0.0\n    # set model to eval \n    model.eval()\n    for x_test, y_test in validation_loader:\n        \n        #make a prediction \n        yhat = model.forward(x_test)\n        #find max \n        pred = torch.max(yhat, 1)\n        #Calculate misclassified  samples in mini-batch \n        acc = ((pred.indices == y_test).sum().item()) / validation_batch\n        correct += acc\n        accuracy_list.append(acc)\n        missed_list.append((pred.indices!=y_test).numpy())\n\n    accuracy_epoch.append(correct/len(validation_loader))\n    print(\"epoch {} loss:{} accuracy:{}\".format(epoch, Loss/N_train, correct/len(validation_loader)))\n",
            "execution_count": 37,
            "outputs": [
                {
                    "output_type": "stream",
                    "text": "epoch: 0 started...\ntraining done...\nstarting validation...\nepoch 0 loss:0.0005951058579608798 accuracy:0.9948999999999993\n",
                    "name": "stdout"
                }
            ]
        },
        {
            "metadata": {},
            "cell_type": "markdown",
            "source": "<b>Print out the Accuracy and plot the loss stored in the list <code>loss_list</code> for every iteration and take a screen shot.</b>\n"
        },
        {
            "metadata": {},
            "cell_type": "code",
            "source": "#accuracy_epoch.append(correct/len(validation_loader))\nprint(\"epoch {} loss:{} accuracy:{}\".format(epoch, Loss/N_train, correct/len(validation_loader)))\n#accuracy_list ",
            "execution_count": 40,
            "outputs": [
                {
                    "output_type": "stream",
                    "text": "epoch 0 loss:0.0005951058579608798 accuracy:0.9948999999999993\n",
                    "name": "stdout"
                }
            ]
        },
        {
            "metadata": {},
            "cell_type": "code",
            "source": "plt.plot(loss_list)\nplt.xlabel(\"iteration\")\nplt.ylabel(\"loss\")\nplt.show()\n",
            "execution_count": 39,
            "outputs": [
                {
                    "output_type": "display_data",
                    "data": {
                        "text/plain": "<Figure size 432x288 with 1 Axes>",
                        "image/png": "[encoded data removed]"
                    },
                    "metadata": {
                        "needs_background": "light"
                    }
                }
            ]
        },
        {
            "metadata": {},
            "cell_type": "markdown",
            "source": "<h2 id=\"Question_3\">Question 3:Find the misclassified samples</h2> \n"
        },
        {
            "metadata": {},
            "cell_type": "markdown",
            "source": "<b>Identify the first four misclassified samples using the validation data:</b>\n"
        },
        {
            "metadata": {},
            "cell_type": "code",
            "source": "n = np.array(missed_list) #.tolist()\nnpp = np.squeeze(n)\n\n#validation_dataset[missed_list[0:4]][1]",
            "execution_count": 62,
            "outputs": []
        },
        {
            "metadata": {},
            "cell_type": "code",
            "source": "torch.save(model.state_dict(), 'classifier_resnet18_model.state_dict.h5')\ntorch.save(model, 'classifier_resnet18_model.h5')",
            "execution_count": 67,
            "outputs": []
        },
        {
            "metadata": {},
            "cell_type": "code",
            "source": "#curl -X \"PUT\" \"https://s3.private.au-syd.cloud-object-storage.appdomain.cloud/ibm-ai-capstone-bucket/(object-key)\"  -H \"Authorization: bearer (token)\"  -H \"Content-Type: (content-type)\"  -d \"(object-contents)\"\ncurl -X \"PUT\" \"https://s3.private.au-syd.cloud-object-storage.appdomain.cloud/ibm-ai-capstone-bucket/(object-key)\"  -H \"Authorization: bearer (token)\"  -H \"Content-Type: application/\"  -d \"classifier_resnet18_model.h5\"",
            "execution_count": 65,
            "outputs": [
                {
                    "output_type": "error",
                    "ename": "SyntaxError",
                    "evalue": "invalid syntax (793957448.py, line 2)",
                    "traceback": [
                        "\u001b[0;36m  File \u001b[0;32m\"/tmp/wsuser/ipykernel_154/793957448.py\"\u001b[0;36m, line \u001b[0;32m2\u001b[0m\n\u001b[0;31m    curl -X \"PUT\" \"https://s3.private.au-syd.cloud-object-storage.appdomain.cloud/ibm-ai-capstone-bucket/(object-key)\"  -H \"Authorization: bearer (token)\"  -H \"Content-Type: application/\"  -d \"classifier_resnet18_model.h5\"\u001b[0m\n\u001b[0m            ^\u001b[0m\n\u001b[0;31mSyntaxError\u001b[0m\u001b[0;31m:\u001b[0m invalid syntax\n"
                    ]
                }
            ]
        },
        {
            "metadata": {},
            "cell_type": "markdown",
            "source": "<a href=\"https://dataplatform.cloud.ibm.com/docs/content/wsj/analyze-data/share-notebooks.html?utm_medium=Exinfluencer&utm_source=Exinfluencer&utm_content=000026UJ&utm_term=10006555&utm_id=NA-SkillsNetwork-Channel-SkillsNetworkCoursesIBMDeveloperSkillsNetworkDL0321ENSkillsNetwork20647850-2021-01-01\"> CLICK HERE </a> Click here to see how to share your notebook.\n"
        },
        {
            "metadata": {},
            "cell_type": "markdown",
            "source": "<h2>About the Authors:</h2> \n\n<a href=\"https://www.linkedin.com/in/joseph-s-50398b136/?utm_medium=Exinfluencer&utm_source=Exinfluencer&utm_content=000026UJ&utm_term=10006555&utm_id=NA-SkillsNetwork-Channel-SkillsNetworkCoursesIBMDeveloperSkillsNetworkDL0321ENSkillsNetwork20647850-2021-01-01\">Joseph Santarcangelo</a> has a PhD in Electrical Engineering, his research focused on using machine learning, signal processing, and computer vision to determine how videos impact human cognition. Joseph has been working for IBM since he completed his PhD.\n"
        },
        {
            "metadata": {},
            "cell_type": "markdown",
            "source": "## Change Log\n\n| Date (YYYY-MM-DD) | Version | Changed By | Change Description                                          |\n| ----------------- | ------- | ---------- | ----------------------------------------------------------- |\n| 2020-09-21        | 2.0     | Shubham    | Migrated Lab to Markdown and added to course repo in GitLab |\n\n<hr>\n\n## <h3 align=\"center\"> \u00a9 IBM Corporation 2020. All rights reserved. <h3/>\n"
        },
        {
            "metadata": {},
            "cell_type": "markdown",
            "source": "Copyright \u00a9 2018 <a href=\"https://cognitiveclass.ai/?utm_medium=dswb&utm_source=bducopyrightlink&utm_content=000026UJ&utm_term=10006555&utm_id=NA-SkillsNetwork-Channel-SkillsNetworkCoursesIBMDeveloperSkillsNetworkDL0321ENSkillsNetwork20647850-2021-01-01&utm_campaign=bdu\">cognitiveclass.ai</a>. This notebook and its source code are released under the terms of the <a href=\"https://bigdatauniversity.com/mit-license/?utm_medium=Exinfluencer&utm_source=Exinfluencer&utm_content=000026UJ&utm_term=10006555&utm_id=NA-SkillsNetwork-Channel-SkillsNetworkCoursesIBMDeveloperSkillsNetworkDL0321ENSkillsNetwork20647850-2021-01-01\">MIT License</a>.\n"
        }
    ],
    "metadata": {
        "kernelspec": {
            "name": "python3",
            "display_name": "Python 3.8",
            "language": "python"
        },
        "language_info": {
            "name": "python",
            "version": "3.8.12",
            "mimetype": "text/x-python",
            "codemirror_mode": {
                "name": "ipython",
                "version": 3
            },
            "pygments_lexer": "ipython3",
            "nbconvert_exporter": "python",
            "file_extension": ".py"
        }
    },
    "nbformat": 4,
    "nbformat_minor": 2
}